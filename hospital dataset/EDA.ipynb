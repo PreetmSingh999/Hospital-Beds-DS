{
 "cells": [
  {
   "cell_type": "code",
   "execution_count": null,
   "id": "60d80203-c05e-4506-8314-5965bb31fd24",
   "metadata": {},
   "outputs": [],
   "source": [
    "## import libraries\n",
    "import pandas as pd\n",
    "import numpy as np\n",
    "from pandas import DataFrame, Series\n",
    "import matplotlib.pyplot as plt\n",
    "%matplotlib inline\n",
    "import seaborn as sns\n",
    "\n",
    "import json\n",
    "\n",
    "import warnings\n",
    "warnings.filterwarnings(\"ignore\")\n",
    "\n",
    "# Input data files are available in the \"../input/\" directory.\n",
    "# For example, running this (by clicking run or pressing Shift+Enter) will list all files under the input directory\n",
    "\n",
    "import os\n",
    "for dirname, _, filenames in os.walk('/kaggle/input'):\n",
    "    for filename in filenames:\n",
    "        print(os.path.join(dirname, filename))\n",
    "\n",
    "# Any results you write to the current directory are saved as output."
   ]
  },
  {
   "cell_type": "code",
   "execution_count": null,
   "id": "7a6f8630-ee57-428d-a809-3a2b80af0c77",
   "metadata": {},
   "outputs": [],
   "source": [
    "# read data\n",
    "# data about number of goverment hospitals and beds in hospital\n",
    "df = pd.read_csv('/kaggle/input/hospitals-and-beds-in-india/Number of Government Hospitals and Beds in Rural and Urban Areas .csv')"
   ]
  },
  {
   "cell_type": "code",
   "execution_count": null,
   "id": "a399f64a-d306-4d84-b79e-e6040eb54ee1",
   "metadata": {},
   "outputs": [],
   "source": [
    "df.head()"
   ]
  },
  {
   "cell_type": "code",
   "execution_count": null,
   "id": "7423ab25-c2fa-497a-8d6b-43245f699169",
   "metadata": {},
   "outputs": [],
   "source": [
    "print('The shape of data set :', df.shape)"
   ]
  },
  {
   "cell_type": "code",
   "execution_count": null,
   "id": "492ffa70-c8de-477d-bf33-63e3c38c0426",
   "metadata": {},
   "outputs": [],
   "source": [
    "# change column names\n",
    "df.rename (columns = {'Unnamed: 2': 'Beds in Rural', 'Unnamed: 4':'Beds in Urban', 'As on' : 'As on date' , 'States/UTs':'State'}, inplace = True)\n",
    "# drop first row\n",
    "df = df.drop(0)"
   ]
  },
  {
   "cell_type": "code",
   "execution_count": null,
   "id": "2a513bf8-59a9-40b5-ad6c-4e2c9ed4db01",
   "metadata": {},
   "outputs": [],
   "source": [
    "df = df.drop(37)"
   ]
  },
  {
   "cell_type": "code",
   "execution_count": null,
   "id": "f9d1e3a2-ba8d-42ae-b4dc-12928ebc2dca",
   "metadata": {},
   "outputs": [],
   "source": [
    "# remove * character from state feature\n",
    "df['State']= df['State'].str.replace('*','')"
   ]
  },
  {
   "cell_type": "code",
   "execution_count": null,
   "id": "6fb8fa4b-ecd7-4fc7-ab77-92c970e0f969",
   "metadata": {},
   "outputs": [],
   "source": [
    "#convert data types of numerical values into int\n",
    "df[['Rural hospitals','Beds in Rural','Urban hospitals','Beds in Urban']]=df[['Rural hospitals','Beds in Rural','Urban hospitals','Beds in Urban']].astype(int) "
   ]
  },
  {
   "cell_type": "code",
   "execution_count": null,
   "id": "d2cdc8ed-d304-4531-bd26-4c0e652721fc",
   "metadata": {},
   "outputs": [],
   "source": [
    "# total numbers of beds\n",
    "df['Total beds'] = df['Beds in Rural'] + df['Beds in Urban']\n",
    "df['Total Hospital'] = df['Rural hospitals'] + df['Urban hospitals']"
   ]
  },
  {
   "cell_type": "code",
   "execution_count": null,
   "id": "c21ddff3-4741-4d6a-ba5b-63cc1f5bb2c1",
   "metadata": {},
   "outputs": [],
   "source": [
    "df.head()"
   ]
  },
  {
   "cell_type": "code",
   "execution_count": null,
   "id": "13761724-99b7-42ae-bc29-9bad672d7c34",
   "metadata": {},
   "outputs": [],
   "source": [
    "df.describe()"
   ]
  },
  {
   "cell_type": "code",
   "execution_count": null,
   "id": "62475dd5-cd5d-48f7-a7d4-e6fa11d437b2",
   "metadata": {},
   "outputs": [],
   "source": [
    "df.info()"
   ]
  },
  {
   "cell_type": "code",
   "execution_count": null,
   "id": "3eaa7050-4cc4-454e-8b74-212a665b077a",
   "metadata": {},
   "outputs": [],
   "source": [
    "## to draw choropleth map \n",
    "state_data = df[['State','Total Hospital','Total beds']]\n",
    "\n",
    "## we need same state name in both data and json file\n",
    "state_data['State'] = state_data['State'].str.replace('Jammu & Kashmir','Jammu and Kashmir')\n",
    "state_data['State'] = state_data['State'].str.replace('Odisha','Orissa')\n",
    "state_data['State'] = state_data['State'].str.replace('Uttarakhand','Uttaranchal')"
   ]
  },
  {
   "cell_type": "code",
   "execution_count": null,
   "id": "6ae38b16-2732-488c-9f46-64d265ea6de3",
   "metadata": {},
   "outputs": [],
   "source": [
    "# dropping union teritorry cause they are not avaliable in json file\n",
    "state_data.drop(index = [30,31,32,33,36,35],inplace = True)"
   ]
  },
  {
   "cell_type": "code",
   "execution_count": null,
   "id": "aecadbd4-72c1-4bb6-bc1d-fbf8d1e5c02a",
   "metadata": {},
   "outputs": [],
   "source": [
    "import folium\n",
    "import json\n",
    "\n",
    "india_map = folium.Map(location=[20.5937, 78.9629], zoom_start=5)\n",
    "\n",
    "state_geo = os.path.join('/kaggle/input/indian-state-json/states2.json')\n",
    "\n",
    "folium.Choropleth(\n",
    "    geo_data=state_geo,\n",
    "    name='choropleth',\n",
    "    data=state_data,\n",
    "    columns=['State', 'Total Hospital'],\n",
    "    key_on='feature.id',\n",
    "    fill_color='YlGn',\n",
    "    fill_opacity=0.7,\n",
    "    line_opacity=0.2,\n",
    "    legend_name='Total gov. Hospital'\n",
    ").add_to(india_map)\n",
    "\n",
    "folium.LayerControl().add_to(india_map)"
   ]
  },
  {
   "cell_type": "code",
   "execution_count": null,
   "id": "a7394f0b-998f-43b8-a8b4-4cbf750e7bd8",
   "metadata": {},
   "outputs": [],
   "source": [
    "## choropleth map for total gov. hospital in india\n",
    "india_map"
   ]
  },
  {
   "cell_type": "code",
   "execution_count": null,
   "id": "caac2bec-4362-4718-b1f9-fd26a1007da5",
   "metadata": {},
   "outputs": [],
   "source": [
    "## choropleth map for total no. beds in gov. hospital\n",
    "\n",
    "india_map2 = folium.Map(location=[20.5937, 78.9629], zoom_start=5)\n",
    "\n",
    "state_geo = os.path.join('/kaggle/input/indian-state-json/states2.json')\n",
    "\n",
    "folium.Choropleth(\n",
    "    geo_data=state_geo,\n",
    "    name='choropleth',\n",
    "    data=state_data,\n",
    "    columns=['State', 'Total beds'],\n",
    "    key_on='feature.id',\n",
    "    fill_color='OrRd',\n",
    "    fill_opacity=0.7,\n",
    "    line_opacity=0.2,\n",
    "    legend_name='Total Beds in gov. hospital'\n",
    ").add_to(india_map2)\n",
    "\n",
    "folium.LayerControl().add_to(india_map)"
   ]
  },
  {
   "cell_type": "code",
   "execution_count": null,
   "id": "4e796b6d-b766-403e-afac-2167bc2abd63",
   "metadata": {},
   "outputs": [],
   "source": [
    "india_map2"
   ]
  },
  {
   "cell_type": "code",
   "execution_count": null,
   "id": "5d2e4e1b-761a-4343-9ed2-de55eaf3b06b",
   "metadata": {},
   "outputs": [],
   "source": [
    "plt.figure(figsize=(10,10))\n",
    "plt.barh(df['State'],df['Rural hospitals'], label = 'Rural Hospitals')\n",
    "plt.barh(df['State'],df['Urban hospitals'], label = 'Urban Hospitals')\n",
    "plt.ylabel('States')\n",
    "plt.xlabel('No. of hospital')\n",
    "plt.legend()\n",
    "plt.show()"
   ]
  },
  {
   "cell_type": "code",
   "execution_count": null,
   "id": "e72d96f1-d0f6-4429-b79e-f731227221d8",
   "metadata": {},
   "outputs": [],
   "source": [
    "plt.figure(figsize=(10,10))\n",
    "plt.barh(df['State'],df['Beds in Rural'], label = 'Beds in Rural')\n",
    "plt.barh(df['State'],df['Beds in Urban'], label = 'Beds in Urban')\n",
    "plt.ylabel('States')\n",
    "plt.xlabel('No. of beds')\n",
    "plt.legend()\n",
    "plt.show()"
   ]
  },
  {
   "cell_type": "code",
   "execution_count": null,
   "id": "1e1a5e65-b696-43ac-826c-05e3cfd62b54",
   "metadata": {},
   "outputs": [],
   "source": [
    "plt.figure(figsize=(10,10))\n",
    "sns.boxplot( df['Rural hospitals'], df['State'])\n",
    "plt.show()"
   ]
  },
  {
   "cell_type": "code",
   "execution_count": null,
   "id": "7c6e569e-9376-4374-8bfd-635ded3ef84c",
   "metadata": {},
   "outputs": [],
   "source": [
    "# Hospitals and beds maintained by Railways\n",
    "df2 = pd.read_csv('/kaggle/input/hospitals-and-beds-in-india/Hospitals and beds maintained by Railways.csv')"
   ]
  },
  {
   "cell_type": "code",
   "execution_count": null,
   "id": "f6ad6845-89ec-4b7a-b2d2-57e1b16d161f",
   "metadata": {},
   "outputs": [],
   "source": [
    "df2.head()\n",
    "\n",
    "df2.tail()"
   ]
  },
  {
   "cell_type": "code",
   "execution_count": null,
   "id": "d71dc5cc-51e2-4031-8fe2-9be05bc09f86",
   "metadata": {},
   "outputs": [],
   "source": [
    "# change column names\n",
    "df2.rename (columns = {'Unnamed: 1': 'Zone / PU', 'Unnamed: 2':'Total No. of Hospitals', 'Unnamed: 3' : 'Total No. of Indoor Beds'}, inplace = True)\n",
    "# drop first row\n",
    "df2 = df2.drop([0,26])\n",
    "df2 = df2.drop('Number of Hospitals and beds in Railways (as on 21/03/2018)', axis =1)"
   ]
  },
  {
   "cell_type": "code",
   "execution_count": null,
   "id": "aedd13bc-aa14-49f0-a58a-429b5d495b0f",
   "metadata": {},
   "outputs": [],
   "source": [
    "df2.info()\n",
    "\n",
    "# change data type of number columns\n",
    "df2[['Total No. of Hospitals', 'Total No. of Indoor Beds']] = df2[['Total No. of Hospitals', 'Total No. of Indoor Beds']].astype(int)"
   ]
  },
  {
   "cell_type": "code",
   "execution_count": null,
   "id": "6ab1d7be-6c45-4ed7-ab09-5a0f2b3f427e",
   "metadata": {},
   "outputs": [],
   "source": [
    "plt.figure(figsize=(8,8))\n",
    "plt.barh(df2['Zone / PU'],df2['Total No. of Hospitals'], label = 'No. of hospital maintained by Railways')\n",
    "plt.ylabel('Zone / PU')\n",
    "plt.xlabel('No. of hospitals')\n",
    "plt.legend()\n",
    "plt.show()\n",
    "\n",
    "\n",
    "plt.figure(figsize=(8,8))\n",
    "plt.barh(df2['Zone / PU'],df2['Total No. of Indoor Beds'], label = 'No. of beds')\n",
    "plt.ylabel('Zone / PU')\n",
    "plt.xlabel('No. of beds')\n",
    "plt.legend()\n",
    "plt.show()"
   ]
  },
  {
   "cell_type": "code",
   "execution_count": null,
   "id": "1d269822-6600-4f38-bc7b-b62669427189",
   "metadata": {},
   "outputs": [],
   "source": [
    "## Hospitals and Beds maintained by Ministry of Defence\n",
    "# read data\n",
    "df3 = pd.read_csv('/kaggle/input/hospitals-and-beds-in-india/Hospitals and Beds maintained by Ministry of Defence.csv')"
   ]
  },
  {
   "cell_type": "code",
   "execution_count": null,
   "id": "076ec242-9d7d-40fa-8e91-bf58158eec1b",
   "metadata": {},
   "outputs": [],
   "source": [
    "df3.head()\n",
    "\n",
    "df3.tail()"
   ]
  },
  {
   "cell_type": "code",
   "execution_count": null,
   "id": "89e7e2d9-9189-4504-aeb6-6164e883a0c0",
   "metadata": {},
   "outputs": [],
   "source": [
    "df3 = df3.drop('S. No.', axis =1)\n",
    "df3 = df3.drop([29,30])"
   ]
  },
  {
   "cell_type": "code",
   "execution_count": null,
   "id": "4f2c6305-72ec-42af-b929-ee6491380093",
   "metadata": {},
   "outputs": [],
   "source": [
    "plt.figure(figsize=(10,10))\n",
    "plt.barh(df3['Name of State'],df3['No. of Hospitals'], label = 'No. of hospitalmaintain by Ministry of Defence')\n",
    "plt.ylabel('Name of state')\n",
    "plt.xlabel('No. of hospital')\n",
    "plt.legend()\n",
    "plt.show()"
   ]
  },
  {
   "cell_type": "code",
   "execution_count": null,
   "id": "f62671b4-4d6d-4fdc-8cf3-e3f14ed2f021",
   "metadata": {},
   "outputs": [],
   "source": [
    "plt.figure(figsize=(10,10))\n",
    "plt.barh(df3['Name of State'],df3['No. of beds'], label = 'No. of beds')\n",
    "plt.ylabel('Name of state')\n",
    "plt.xlabel('No. of beds')\n",
    "plt.legend()\n",
    "plt.show()"
   ]
  }
 ],
 "metadata": {
  "kernelspec": {
   "display_name": "Python 3 (ipykernel)",
   "language": "python",
   "name": "python3"
  },
  "language_info": {
   "codemirror_mode": {
    "name": "ipython",
    "version": 3
   },
   "file_extension": ".py",
   "mimetype": "text/x-python",
   "name": "python",
   "nbconvert_exporter": "python",
   "pygments_lexer": "ipython3",
   "version": "3.11.7"
  }
 },
 "nbformat": 4,
 "nbformat_minor": 5
}
